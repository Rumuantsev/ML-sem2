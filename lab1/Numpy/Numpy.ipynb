{
 "cells": [
  {
   "cell_type": "markdown",
   "id": "17e6a920",
   "metadata": {},
   "source": [
    "# NumPy\n",
    "\n",
    "### Используя средства библиотеки NumPy, без циклов, выполните следующие задания:\n",
    "\n",
    "#### a) Создайте массив `arr_1` размером 3х4, все элементы которого равны 3.\n",
    "\n",
    "#### b) Создайте массив `arr_2`, заполненный случайными целыми числами от 0 до 9, размером 2х4.\n",
    "\n",
    "#### c) Выведите на экран количество элементов в созданных массивах `arr_1` и `arr_2`.\n",
    "\n",
    "#### d) Соедините массивы `arr_1` и `arr_2` по нулевой оси.\n",
    "\n",
    "#### e) Создайте массив `arr_3` из кортежа чисел `(1, 8, 6, 5, 8, 3)` с помощью функции `np.array()`.\n",
    "\n",
    "#### f) Умножьте каждый элемент массива `arr_3` на число 3 и прибавьте к каждому элементу 1. Результат запишите в новый массив `arr_4`."
   ]
  },
  {
   "cell_type": "code",
   "execution_count": 1,
   "id": "d5714f81",
   "metadata": {},
   "outputs": [],
   "source": [
    "import numpy as np"
   ]
  },
  {
   "cell_type": "code",
   "execution_count": null,
   "id": "a35953a2",
   "metadata": {},
   "outputs": [
    {
     "name": "stdout",
     "output_type": "stream",
     "text": [
      "a) arr_1:\n",
      " [[3 3 3 3]\n",
      " [3 3 3 3]\n",
      " [3 3 3 3]]\n",
      "\n",
      "b) arr_2:\n",
      " [[6 4 7 0]\n",
      " [1 2 0 1]]\n",
      "\n",
      "c) Количество элементов:\n",
      "arr_1: 12 элементов\n",
      "arr_2: 8 элементов\n",
      "\n",
      "d) Объединенный массив по оси 0:\n",
      " [[3 3 3 3]\n",
      " [3 3 3 3]\n",
      " [3 3 3 3]\n",
      " [6 4 7 0]\n",
      " [1 2 0 1]]\n",
      "\n",
      "e) arr_3:\n",
      " [1 8 6 5 8 3]\n",
      "\n",
      "f) arr_4:\n",
      " [ 4 25 19 16 25 10]\n",
      "\n"
     ]
    }
   ],
   "source": [
    "arr_1 = np.full((3, 4), 3)\n",
    "print(\"a) arr_1:\\n\", arr_1)\n",
    "print()\n",
    "\n",
    "arr_2 = np.random.randint(0, 10, size=(2, 4))\n",
    "print(\"b) arr_2:\\n\", arr_2)\n",
    "print()\n",
    "\n",
    "print(\"c) Количество элементов:\")\n",
    "print(f\"arr_1: {arr_1.size} элементов\")\n",
    "print(f\"arr_2: {arr_2.size} элементов\")\n",
    "print()\n",
    "\n",
    "arr_combined = np.concatenate((arr_1, arr_2), axis=0)\n",
    "print(\"d) Объединенный массив по оси 0:\\n\", arr_combined)\n",
    "print()\n",
    "\n",
    "arr_3 = np.array((1, 8, 6, 5, 8, 3))\n",
    "print(\"e) arr_3:\\n\", arr_3)\n",
    "print()\n",
    "\n",
    "arr_4 = arr_3 * 3 + 1\n",
    "print(\"f) arr_4:\\n\", arr_4)"
   ]
  },
  {
   "cell_type": "markdown",
   "id": "a2af7a13",
   "metadata": {},
   "source": [
    "#### g) Преобразуйте массив `arr_3` к двумерному массиву 2х3. Результат запишите в массив `arr_5`.\n",
    "\n",
    "#### h) Определите минимальные элементы массива `arr_5` вдоль первой оси.\n",
    "\n",
    "#### i) Вычислите среднее арифметическое всех элементов массива `arr_5`."
   ]
  },
  {
   "cell_type": "code",
   "execution_count": 48,
   "id": "08f8350c",
   "metadata": {},
   "outputs": [
    {
     "name": "stdout",
     "output_type": "stream",
     "text": [
      "g) arr_5 (2x3):\n",
      " [[1 8 6]\n",
      " [5 8 3]]\n",
      "\n",
      "h) Минимальные элементы вдоль оси 1:\n",
      " [1 3]\n",
      "\n",
      "i) Среднее арифметическое arr_5: 5.166666666666667\n"
     ]
    }
   ],
   "source": [
    "arr_5 = arr_3.reshape(2, 3)\n",
    "print(\"g) arr_5 (2x3):\\n\", arr_5)\n",
    "print()\n",
    "\n",
    "print(\"h) Минимальные элементы вдоль оси 1:\\n\", np.min(arr_5, axis=1))\n",
    "print()\n",
    "\n",
    "print(\"i) Среднее арифметическое arr_5:\", np.mean(arr_5))"
   ]
  },
  {
   "cell_type": "markdown",
   "id": "65e92c51",
   "metadata": {},
   "source": [
    "#### j) Создайте массив `arr_6`, состоящий из квадратов чисел от 0 до 10.\n",
    "\n",
    "#### k) Выведите каждый второй элемент массива `arr_6`.\n",
    "\n",
    "#### l) Выведите элементы массива `arr_6` в обратном порядке.\n",
    "\n",
    "#### m) Каждому второму элементу массива `arr_6` присвойте значение 2.\n",
    "\n",
    "#### n) Проверьте, есть ли в массиве `arr_6` значение 49.\n",
    "\n",
    "#### o) Создайте двумерный массив `A`, состоящий из положительных и отрицательных чисел. Из массива `A` выберите все отрицательные элементы и запишите их в одномерный массив `B`."
   ]
  },
  {
   "cell_type": "code",
   "execution_count": null,
   "id": "54ed7c91",
   "metadata": {},
   "outputs": [
    {
     "name": "stdout",
     "output_type": "stream",
     "text": [
      "j) arr_6 (квадраты 0-10):\n",
      " [  0   1   4   9  16  25  36  49  64  81 100]\n",
      "\n",
      "k) Каждый второй элемент arr_6:\n",
      " [ 1  9 25 49 81]\n",
      "\n",
      "l) arr_6 в обратном порядке:\n",
      " [100  81  64  49  36  25  16   9   4   1   0]\n",
      "\n",
      "m) arr_6 после замены каждого второго на 2:\n",
      " [  0   2   4   2  16   2  36   2  64   2 100]\n",
      "\n",
      "n) Есть ли значение 49 в arr_6: False\n",
      "\n",
      "o) Массив A:\n",
      " [[ 1 -2  3]\n",
      " [-4  5 -6]\n",
      " [ 7 -8  9]]\n",
      "Отрицательные элементы массива А):\n",
      " [-2 -4 -6 -8]\n"
     ]
    }
   ],
   "source": [
    "arr_6 = np.arange(11) ** 2\n",
    "print(\"j) arr_6 (квадраты 0-10):\\n\", arr_6)\n",
    "print()\n",
    "\n",
    "print(\"k) Каждый второй элемент arr_6:\\n\", arr_6[1::2])\n",
    "print()\n",
    "\n",
    "print(\"l) arr_6 в обратном порядке:\\n\", arr_6[::-1])\n",
    "print()\n",
    "\n",
    "arr_6[1::2] = 2\n",
    "print(\"m) arr_6 после замены каждого второго на 2:\\n\", arr_6)\n",
    "print()\n",
    "\n",
    "print(\"n) Есть ли значение 49 в arr_6:\", 49 in arr_6)\n",
    "print()\n",
    "\n",
    "A = np.array([[1, -2, 3], \n",
    "              [-4, 5, -6], \n",
    "              [7, -8, 9]])\n",
    "B = A[A < 0]\n",
    "print(\"o) Массив A:\\n\", A)\n",
    "print(\"Отрицательные элементы массива А):\\n\", B)"
   ]
  },
  {
   "cell_type": "markdown",
   "id": "be6f8fa8",
   "metadata": {},
   "source": [
    "### Напишите программы, которые создают следующие массивы NumPy:\n",
    "#### 1. Массив со значениями 1, 7, 13, 105. Посчитайте и выведите на экран размер памяти, который он занимает. Сохраните массив в текстовый и бинарный файлы. Затем загрузите его и выведите на экран."
   ]
  },
  {
   "cell_type": "code",
   "execution_count": 4,
   "id": "c691af9a",
   "metadata": {},
   "outputs": [
    {
     "name": "stdout",
     "output_type": "stream",
     "text": [
      "1. Массив: [  1   7  13 105]\n",
      "Размер памяти: 32 байт\n",
      "Массив сохранен в array.txt\n",
      "Массив сохранен в array.npy\n",
      "Загружен из текстового файла: [  1   7  13 105]\n",
      "Загружен из бинарного файла: [  1   7  13 105]\n"
     ]
    }
   ],
   "source": [
    "arr = np.array([1, 7, 13, 105])\n",
    "print(\"1. Массив:\", arr)\n",
    "\n",
    "print(f\"Размер памяти: {arr.nbytes} байт\")\n",
    "\n",
    "np.savetxt('array.txt', arr)\n",
    "print(\"Массив сохранен в array.txt\")\n",
    "\n",
    "np.save('array.npy', arr)\n",
    "print(\"Массив сохранен в array.npy\")\n",
    "\n",
    "loaded_from_txt = np.loadtxt('array.txt').astype(int)\n",
    "print(\"Загружен из текстового файла:\", loaded_from_txt)\n",
    "\n",
    "loaded_from_binary = np.load('array.npy')\n",
    "print(\"Загружен из бинарного файла:\", loaded_from_binary)"
   ]
  },
  {
   "cell_type": "markdown",
   "id": "32fde74a",
   "metadata": {},
   "source": [
    "#### 2. Три массива: из 10 нулей, 10 единиц, 10 пятерок.\n",
    "\n",
    "#### 3. Массив последовательности четных целых чисел от 30 до 70.\n",
    "\n",
    "#### 4. Массив из 10 элементов со значениями, равномерно распределенными между 5 и 50.\n",
    "\n",
    "#### 5. Массив 3x3x3 из 27 случайных чисел в диапазоне от 1 до 100.\n",
    "\n",
    "#### 6. Массив 3х4, заполненной значениями от 30 до 41."
   ]
  },
  {
   "cell_type": "code",
   "execution_count": 6,
   "id": "571af269",
   "metadata": {},
   "outputs": [
    {
     "name": "stdout",
     "output_type": "stream",
     "text": [
      "2. Массивы из нулей, единиц и пятерок:\n",
      "Нули: [0. 0. 0. 0. 0. 0. 0. 0. 0. 0.]\n",
      "Единицы: [1. 1. 1. 1. 1. 1. 1. 1. 1. 1.]\n",
      "Пятерки: [5 5 5 5 5 5 5 5 5 5]\n",
      "\n",
      "3. Массив четных чисел от 30 до 70:\n",
      "[30 32 34 36 38 40 42 44 46 48 50 52 54 56 58 60 62 64 66 68 70]\n",
      "\n",
      "4. Массив из 10 элементов, равномерно распределенных между 5 и 50:\n",
      "[ 5 10 15 20 25 30 35 40 45 50]\n",
      "\n",
      "5. Массив 3x3x3 из случайных чисел от 1 до 100:\n",
      "[[[ 1 63 90]\n",
      "  [22 32 53]\n",
      "  [19 47 53]]\n",
      "\n",
      " [[25 88 38]\n",
      "  [ 7 21 64]\n",
      "  [27 20 39]]\n",
      "\n",
      " [[ 1 83  7]\n",
      "  [56 49 42]\n",
      "  [40 34 85]]]\n",
      "\n",
      "6. Массив 3x4, заполненный значениями от 30 до 41:\n",
      "[[30 31 32 33]\n",
      " [34 35 36 37]\n",
      " [38 39 40 41]]\n"
     ]
    }
   ],
   "source": [
    "print(\"2. Массивы из нулей, единиц и пятерок:\")\n",
    "zeros_arr = np.zeros(10)\n",
    "ones_arr = np.ones(10)\n",
    "fives_arr = np.full(10, 5)\n",
    "print(\"Нули:\", zeros_arr)\n",
    "print(\"Единицы:\", ones_arr)\n",
    "print(\"Пятерки:\", fives_arr)\n",
    "print()\n",
    "\n",
    "print(\"3. Массив четных чисел от 30 до 70:\")\n",
    "even_arr = np.arange(30, 71, 2)\n",
    "print(even_arr)\n",
    "print()\n",
    "\n",
    "print(\"4. Массив из 10 элементов, равномерно распределенных между 5 и 50:\")\n",
    "uniform_arr = np.linspace(5, 50, 10).astype(int)\n",
    "print(uniform_arr)\n",
    "print()\n",
    "\n",
    "print(\"5. Массив 3x3x3 из случайных чисел от 1 до 100:\")\n",
    "random_arr = np.random.randint(1, 101, size=(3, 3, 3))\n",
    "print(random_arr)\n",
    "print()\n",
    "\n",
    "print(\"6. Массив 3x4, заполненный значениями от 30 до 41:\")\n",
    "range_arr = np.arange(30, 42).reshape(3, 4)\n",
    "print(range_arr)"
   ]
  },
  {
   "cell_type": "markdown",
   "id": "2b3822dd",
   "metadata": {},
   "source": [
    "#### 7. Массив 10x10, в котором элементы на границах равны 1, а внутри 0.\n",
    "\n",
    "#### 8. Массив 5x5 из нулей с элементами на главной диагонали равными 1, 2, 3, 4, 5.\n",
    "\n",
    "#### 9. Массив 4x4, в котором 0 и 1 расположены в шахматном порядке, с нулями на главной диагонали.\n",
    "\n",
    "#### 10. Массив, заполненный всеми днями марта 2017 года. Тип данных массива – дата."
   ]
  },
  {
   "cell_type": "code",
   "execution_count": 5,
   "id": "3d10fb7b",
   "metadata": {},
   "outputs": [
    {
     "name": "stdout",
     "output_type": "stream",
     "text": [
      "7. Массив 10x10 с границами 1 и внутренней частью 0:\n",
      "[[1 1 1 1 1 1 1 1 1 1]\n",
      " [1 0 0 0 0 0 0 0 0 1]\n",
      " [1 0 0 0 0 0 0 0 0 1]\n",
      " [1 0 0 0 0 0 0 0 0 1]\n",
      " [1 0 0 0 0 0 0 0 0 1]\n",
      " [1 0 0 0 0 0 0 0 0 1]\n",
      " [1 0 0 0 0 0 0 0 0 1]\n",
      " [1 0 0 0 0 0 0 0 0 1]\n",
      " [1 0 0 0 0 0 0 0 0 1]\n",
      " [1 1 1 1 1 1 1 1 1 1]]\n",
      "\n",
      "8. Массив 5x5 из нулей с элементами на главной диагонали 1, 2, 3, 4, 5:\n",
      "[[1 0 0 0 0]\n",
      " [0 2 0 0 0]\n",
      " [0 0 3 0 0]\n",
      " [0 0 0 4 0]\n",
      " [0 0 0 0 5]]\n",
      "\n",
      "9. Массив 4x4 в шахматном порядке с нулями на главной диагонали:\n",
      "[[0 1 0 1]\n",
      " [1 0 1 0]\n",
      " [0 1 0 1]\n",
      " [1 0 1 0]]\n",
      "\n",
      "10. Массив всех дней марта 2017 года:\n",
      "['2017-03-01' '2017-03-02' '2017-03-03' '2017-03-04' '2017-03-05'\n",
      " '2017-03-06' '2017-03-07' '2017-03-08' '2017-03-09' '2017-03-10'\n",
      " '2017-03-11' '2017-03-12' '2017-03-13' '2017-03-14' '2017-03-15'\n",
      " '2017-03-16' '2017-03-17' '2017-03-18' '2017-03-19' '2017-03-20'\n",
      " '2017-03-21' '2017-03-22' '2017-03-23' '2017-03-24' '2017-03-25'\n",
      " '2017-03-26' '2017-03-27' '2017-03-28' '2017-03-29' '2017-03-30'\n",
      " '2017-03-31']\n"
     ]
    }
   ],
   "source": [
    "print(\"7. Массив 10x10 с границами 1 и внутренней частью 0:\")\n",
    "border_arr = np.ones((10, 10))\n",
    "border_arr[1:-1, 1:-1] = 0\n",
    "print(border_arr.astype(int))\n",
    "print()\n",
    "\n",
    "print(\"8. Массив 5x5 из нулей с элементами на главной диагонали 1, 2, 3, 4, 5:\")\n",
    "diag_arr = np.diag([1, 2, 3, 4, 5])\n",
    "print(diag_arr)\n",
    "print()\n",
    "\n",
    "print(\"9. Массив 4x4 в шахматном порядке с нулями на главной диагонали:\")\n",
    "chess = np.zeros((4, 4), dtype=int)\n",
    "chess[::2, 1::2] = 1\n",
    "chess[1::2, ::2] = 1\n",
    "print(chess)\n",
    "print()\n",
    "\n",
    "print(\"10. Массив всех дней марта 2017 года:\")\n",
    "march_2017 = np.arange('2017-03-01', '2017-04-01', dtype='datetime64')\n",
    "print(march_2017)"
   ]
  },
  {
   "cell_type": "markdown",
   "id": "8e8391ff",
   "metadata": {},
   "source": [
    "#### Создайте две numpy матрицы размера nхn и заполните их случайными значениями.\n",
    "#### Посчитайте их поэлементное и матричное произведения. Для этого реализуйте функции:\n",
    "1. mult – матричное перемножение без использования numpy\n",
    "2. el_mult – поэлементное перемножение без использования numpy\n",
    "3. np_mult – матричное перемножение c использованием numpy\n",
    "4. np_el_mult – поэлементное перемножение с использованием numpy\n",
    "##### При помощи timeit засеките время работы функций для n = 100000 (для чистоты эксперимента засекайте время на одинаковых матрицах).\n",
    "#### *Во сколько раз numpy версия функций работает быстрее реализаций без numpy?*"
   ]
  },
  {
   "cell_type": "code",
   "execution_count": null,
   "id": "57cec8cd",
   "metadata": {},
   "outputs": [
    {
     "name": "stdout",
     "output_type": "stream",
     "text": [
      "Матричное без Numpy: 92.1203239000024\n",
      "Матричное с Numpy: 0.016482200000609737\n",
      "С NumPy быстрее в 5589.079364198623 раз\n",
      "\n",
      "Поэлементное без Numpy: 0.06776030000037281\n",
      "Поэлементное с Numpy: 0.0029638999985763803\n",
      "С NumPy быстрее в 22.861871194345092 раз\n"
     ]
    }
   ],
   "source": [
    "import random\n",
    "import timeit\n",
    "\n",
    "def mult(A, B):\n",
    "    n = len(A)\n",
    "    C = [[0] * n for _ in range(n)]\n",
    "    for i in range(n):\n",
    "        for j in range(n):\n",
    "            for k in range(n):\n",
    "                C[i][j] += A[i][k] * B[k][j]\n",
    "    return C\n",
    "\n",
    "def el_mult(A, B):\n",
    "    n = len(A)\n",
    "    C = [[0] * n for _ in range(n)]\n",
    "    for i in range(n):\n",
    "        for j in range(n):\n",
    "            C[i][j] = A[i][j] * B[i][j]\n",
    "    return C\n",
    "\n",
    "def np_mult(A, B):\n",
    "    return np.dot(A, B)\n",
    "\n",
    "def np_el_mult(A, B):\n",
    "    return A * B\n",
    "\n",
    "n = 1000\n",
    "A = [[random.random() for _ in range(n)] for _ in range(n)]\n",
    "B = [[random.random() for _ in range(n)] for _ in range(n)]\n",
    "\n",
    "A_np = np.array(A)\n",
    "B_np = np.array(B)\n",
    "\n",
    "t_python_mult = timeit.timeit(lambda: mult(A, B), number=1)\n",
    "t_python_el = timeit.timeit(lambda: el_mult(A, B), number=1)\n",
    "t_numpy_mult = timeit.timeit(lambda: np_mult(A_np, B_np), number=1)\n",
    "t_numpy_el = timeit.timeit(lambda: np_el_mult(A_np, B_np), number=1)\n",
    "\n",
    "\n",
    "print(f\"Матричное без Numpy: {t_python_mult}\")\n",
    "print(f\"Матричное с Numpy: {t_numpy_mult}\")\n",
    "print(f\"С NumPy быстрее в {t_python_mult / t_numpy_mult} раз\\n\")\n",
    "\n",
    "print(f\"Поэлементное без Numpy: {t_python_el}\")\n",
    "print(f\"Поэлементное с Numpy: {t_numpy_el}\")\n",
    "print(f\"С NumPy быстрее в {t_python_el / t_numpy_el} раз\")"
   ]
  },
  {
   "cell_type": "markdown",
   "id": "2253eedb",
   "metadata": {},
   "source": [
    "# Результаты для n = 1000\n",
    "### На 100000 комп не вывозит\n",
    "\n",
    "![result](https://raw.githubusercontent.com/Rumuantsev/ML-sem2/refs/heads/master/lab1/Numpy/resunlts.jpg)\n",
    "\n"
   ]
  },
  {
   "cell_type": "markdown",
   "id": "79a7d2d3",
   "metadata": {},
   "source": [
    "### Создайте и заполните случайными значениями матрицы A, B, C и D (размерности смотрите в формуле). Вычислите следующее выражение:\n",
    "\n",
    "![image1](https://raw.githubusercontent.com/Rumuantsev/ML-sem2/refs/heads/master/lab1/Numpy/image1.jpg)"
   ]
  },
  {
   "cell_type": "code",
   "execution_count": 1,
   "id": "c9d5414d",
   "metadata": {},
   "outputs": [
    {
     "ename": "NameError",
     "evalue": "name 'np' is not defined",
     "output_type": "error",
     "traceback": [
      "\u001b[1;31m---------------------------------------------------------------------------\u001b[0m",
      "\u001b[1;31mNameError\u001b[0m                                 Traceback (most recent call last)",
      "Cell \u001b[1;32mIn[1], line 3\u001b[0m\n\u001b[0;32m      1\u001b[0m n, m \u001b[38;5;241m=\u001b[39m \u001b[38;5;241m4\u001b[39m, \u001b[38;5;241m3\u001b[39m  \u001b[38;5;66;03m# можно поменять\u001b[39;00m\n\u001b[1;32m----> 3\u001b[0m A \u001b[38;5;241m=\u001b[39m \u001b[43mnp\u001b[49m\u001b[38;5;241m.\u001b[39mrandom\u001b[38;5;241m.\u001b[39mrandint(\u001b[38;5;241m1\u001b[39m, \u001b[38;5;241m10\u001b[39m, size\u001b[38;5;241m=\u001b[39m(n, m)) \n\u001b[0;32m      4\u001b[0m B \u001b[38;5;241m=\u001b[39m np\u001b[38;5;241m.\u001b[39mrandom\u001b[38;5;241m.\u001b[39mrandint(\u001b[38;5;241m1\u001b[39m, \u001b[38;5;241m10\u001b[39m, size\u001b[38;5;241m=\u001b[39m(m, \u001b[38;5;241m1\u001b[39m))\n\u001b[0;32m      5\u001b[0m C \u001b[38;5;241m=\u001b[39m np\u001b[38;5;241m.\u001b[39mrandom\u001b[38;5;241m.\u001b[39mrandint(\u001b[38;5;241m1\u001b[39m, \u001b[38;5;241m10\u001b[39m, size\u001b[38;5;241m=\u001b[39m(m, n))\n",
      "\u001b[1;31mNameError\u001b[0m: name 'np' is not defined"
     ]
    }
   ],
   "source": [
    "n, m = 4, 3  # можно поменять\n",
    "\n",
    "A = np.random.randint(1, 10, size=(n, m)) \n",
    "B = np.random.randint(1, 10, size=(m, 1))\n",
    "C = np.random.randint(1, 10, size=(m, n))\n",
    "D = np.random.randint(1, 10, size=(m, 1))\n",
    "\n",
    "AB = A.dot(B)         \n",
    "CTD = C.T.dot(D)    \n",
    "\n",
    "result = 5 * AB + CTD\n",
    "\n",
    "print(\"A:\\n\", A)\n",
    "print(\"B:\\n\", B)\n",
    "print(\"C:\\n\", C)\n",
    "print(\"D:\\n\", D)\n",
    "print(\"\\nРезультат:\\n\", result)"
   ]
  },
  {
   "cell_type": "markdown",
   "id": "559e28c5",
   "metadata": {},
   "source": [
    "![image2](https://raw.githubusercontent.com/Rumuantsev/ML-sem2-lab1/refs/heads/master/Numpy/image2.jpg)"
   ]
  },
  {
   "cell_type": "code",
   "execution_count": null,
   "id": "ab33d0da",
   "metadata": {},
   "outputs": [
    {
     "name": "stdout",
     "output_type": "stream",
     "text": [
      "\n",
      "Результат:\n",
      " [[0.68478852]\n",
      " [2.80148778]\n",
      " [0.81180812]]\n"
     ]
    }
   ],
   "source": [
    "X = np.array([[-3, 4, 1],\n",
    "              [4, 3, 1]])\n",
    "\n",
    "y = np.array([[10],\n",
    "              [12]])\n",
    "\n",
    "lambda_val = 0.1\n",
    "I_n = np.eye(3)  \n",
    "\n",
    "X_T = X.T  \n",
    "X_T_X = X_T.dot(X)  \n",
    "lambda_I = lambda_val * I_n \n",
    "matrix_sum = X_T_X + lambda_I  \n",
    "matrix_inv = np.linalg.inv(matrix_sum)  \n",
    "X_T_y = X_T.dot(y)  \n",
    "\n",
    "result = matrix_inv.dot(X_T_y)  \n",
    "\n",
    "print(\"\\nРезультат:\\n\", result)"
   ]
  }
 ],
 "metadata": {
  "kernelspec": {
   "display_name": "Python 3",
   "language": "python",
   "name": "python3"
  },
  "language_info": {
   "codemirror_mode": {
    "name": "ipython",
    "version": 3
   },
   "file_extension": ".py",
   "mimetype": "text/x-python",
   "name": "python",
   "nbconvert_exporter": "python",
   "pygments_lexer": "ipython3",
   "version": "3.13.0"
  }
 },
 "nbformat": 4,
 "nbformat_minor": 5
}
